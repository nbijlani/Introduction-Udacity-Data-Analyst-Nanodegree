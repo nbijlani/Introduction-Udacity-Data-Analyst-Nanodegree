{
 "cells": [
  {
   "cell_type": "markdown",
   "metadata": {},
   "source": [
    "## Analysis of Titanic data"
   ]
  },
  {
   "cell_type": "markdown",
   "metadata": {},
   "source": [
    "The Titanic data set contains information about passengers aboard the 1912 Titanic ship that met with disaster on its maiden voyage from England to America. It records the survival status of each of 891 passengers on board along with their defining characteristics: name, age, gender, cabin identifier, class travelled, port of embarkation, ticket identifier, fare and whether they had any parents, children, partners or siblings on board. The objective of this analysis is to investigate questions that we could ask of this data set, elicit answers using Python to manipulate and query this data, and present the analysis via visualisation and textual commentary.\n",
    "\n",
    "I analyse here the most important dependent variable: survival, in relation to the following independent variables: age, gender, class of travel and port of embarkation.  "
   ]
  },
  {
   "cell_type": "markdown",
   "metadata": {},
   "source": [
    "#### Here are some investigative questions that pique my interest!\n",
    "1. How many males and females were on board? What percentage of survivors were male vs. female?\n",
    "2. What impact did a passenger's class of travel have on their survival?\n",
    "3. What was the number of survivors by embarkation location?\n",
    "4. How many children vs. adults survived?\n",
    "5. Compare characteristics of survivors vs. non-survivors. For example, were their more single people that survived? Or were there more that had some family on board?"
   ]
  },
  {
   "cell_type": "markdown",
   "metadata": {},
   "source": [
    "## Load data from csv"
   ]
  },
  {
   "cell_type": "code",
   "execution_count": 1,
   "metadata": {
    "collapsed": true
   },
   "outputs": [],
   "source": [
    "import pandas as pd\n",
    "import numpy as np\n",
    "\n",
    "df_master = pd.read_csv('titanic-data.csv', index_col='PassengerId')"
   ]
  },
  {
   "cell_type": "markdown",
   "metadata": {},
   "source": [
    "## Explore the data"
   ]
  },
  {
   "cell_type": "code",
   "execution_count": 2,
   "metadata": {},
   "outputs": [
    {
     "data": {
      "text/html": [
       "<div>\n",
       "<table border=\"1\" class=\"dataframe\">\n",
       "  <thead>\n",
       "    <tr style=\"text-align: right;\">\n",
       "      <th></th>\n",
       "      <th>Survived</th>\n",
       "      <th>Pclass</th>\n",
       "      <th>Age</th>\n",
       "      <th>SibSp</th>\n",
       "      <th>Parch</th>\n",
       "      <th>Fare</th>\n",
       "    </tr>\n",
       "  </thead>\n",
       "  <tbody>\n",
       "    <tr>\n",
       "      <th>count</th>\n",
       "      <td>891.000000</td>\n",
       "      <td>891.000000</td>\n",
       "      <td>714.000000</td>\n",
       "      <td>891.000000</td>\n",
       "      <td>891.000000</td>\n",
       "      <td>891.000000</td>\n",
       "    </tr>\n",
       "    <tr>\n",
       "      <th>mean</th>\n",
       "      <td>0.383838</td>\n",
       "      <td>2.308642</td>\n",
       "      <td>29.699118</td>\n",
       "      <td>0.523008</td>\n",
       "      <td>0.381594</td>\n",
       "      <td>32.204208</td>\n",
       "    </tr>\n",
       "    <tr>\n",
       "      <th>std</th>\n",
       "      <td>0.486592</td>\n",
       "      <td>0.836071</td>\n",
       "      <td>14.526497</td>\n",
       "      <td>1.102743</td>\n",
       "      <td>0.806057</td>\n",
       "      <td>49.693429</td>\n",
       "    </tr>\n",
       "    <tr>\n",
       "      <th>min</th>\n",
       "      <td>0.000000</td>\n",
       "      <td>1.000000</td>\n",
       "      <td>0.420000</td>\n",
       "      <td>0.000000</td>\n",
       "      <td>0.000000</td>\n",
       "      <td>0.000000</td>\n",
       "    </tr>\n",
       "    <tr>\n",
       "      <th>25%</th>\n",
       "      <td>0.000000</td>\n",
       "      <td>2.000000</td>\n",
       "      <td>20.125000</td>\n",
       "      <td>0.000000</td>\n",
       "      <td>0.000000</td>\n",
       "      <td>7.910400</td>\n",
       "    </tr>\n",
       "    <tr>\n",
       "      <th>50%</th>\n",
       "      <td>0.000000</td>\n",
       "      <td>3.000000</td>\n",
       "      <td>28.000000</td>\n",
       "      <td>0.000000</td>\n",
       "      <td>0.000000</td>\n",
       "      <td>14.454200</td>\n",
       "    </tr>\n",
       "    <tr>\n",
       "      <th>75%</th>\n",
       "      <td>1.000000</td>\n",
       "      <td>3.000000</td>\n",
       "      <td>38.000000</td>\n",
       "      <td>1.000000</td>\n",
       "      <td>0.000000</td>\n",
       "      <td>31.000000</td>\n",
       "    </tr>\n",
       "    <tr>\n",
       "      <th>max</th>\n",
       "      <td>1.000000</td>\n",
       "      <td>3.000000</td>\n",
       "      <td>80.000000</td>\n",
       "      <td>8.000000</td>\n",
       "      <td>6.000000</td>\n",
       "      <td>512.329200</td>\n",
       "    </tr>\n",
       "  </tbody>\n",
       "</table>\n",
       "</div>"
      ],
      "text/plain": [
       "         Survived      Pclass         Age       SibSp       Parch        Fare\n",
       "count  891.000000  891.000000  714.000000  891.000000  891.000000  891.000000\n",
       "mean     0.383838    2.308642   29.699118    0.523008    0.381594   32.204208\n",
       "std      0.486592    0.836071   14.526497    1.102743    0.806057   49.693429\n",
       "min      0.000000    1.000000    0.420000    0.000000    0.000000    0.000000\n",
       "25%      0.000000    2.000000   20.125000    0.000000    0.000000    7.910400\n",
       "50%      0.000000    3.000000   28.000000    0.000000    0.000000   14.454200\n",
       "75%      1.000000    3.000000   38.000000    1.000000    0.000000   31.000000\n",
       "max      1.000000    3.000000   80.000000    8.000000    6.000000  512.329200"
      ]
     },
     "execution_count": 2,
     "metadata": {},
     "output_type": "execute_result"
    }
   ],
   "source": [
    "df_master.describe()"
   ]
  },
  {
   "cell_type": "markdown",
   "metadata": {},
   "source": [
    "An initial exploration of the data reveals the following essential facts:\n",
    "1. There are 77 missing values for Age. This means that we do not know the \"adult\" or \"child\" status for these records, and so we'll want to tag these as \"U\" for \"Unknown\".\n",
    "2. A greater number of passengers died than survived.\n",
    "3. The youngest passenger was less than 6 months old, and the oldest was 80.\n",
    "4. Half the passengers were below 28 years of age, and three-quarters were below 38! This is a really young demographic (ignoring passengers with unrecorded ages, of course)."
   ]
  },
  {
   "cell_type": "markdown",
   "metadata": {},
   "source": [
    "## Fix data types, fill in missing values and add new derived columns for analysis"
   ]
  },
  {
   "cell_type": "markdown",
   "metadata": {},
   "source": [
    "#### I decided here to fill in -1 for Age values where they were null. This is done because around 20% of records do not contain age data and ignoring these records completely could lead to skewed and less accurate analysis. However, for age-based analysis, these records will be removed.  "
   ]
  },
  {
   "cell_type": "code",
   "execution_count": 3,
   "metadata": {
    "collapsed": true
   },
   "outputs": [],
   "source": [
    "# This function takes in a data row and returns the adult status of an individual based on their age.\n",
    "def translateAge(row):\n",
    "    if row['Age'] > 18.0:\n",
    "        return 'Adult'\n",
    "    elif row['Age'] > 0.0:\n",
    "        return 'Child' \n",
    "    else:\n",
    "        return 'Unknown'\n",
    "\n",
    "# This function takes in a data row and determines if the individual had any family on board based on whether or not they had a sibling, spouse, parent or child on board.\n",
    "def translateFamilyStatus(row):\n",
    "    if (row['SibSp'] > 0) or (row['Parch'] > 0):\n",
    "        return 'Family'\n",
    "    else:\n",
    "        return 'Alone'    \n",
    "\n",
    "df_master['Survived'] = pd.to_numeric(df_master['Survived'], errors='coerce')\n",
    "df_master['Pclass'] = pd.to_numeric(df_master['Pclass'], errors='coerce')\n",
    "df_master['Age'] = pd.to_numeric(df_master['Age'], errors='coerce')\n",
    "\n",
    "df_master['Age'].fillna(-1, inplace=True)\n",
    "\n",
    "df_master['SibSp'] = pd.to_numeric(df_master['SibSp'], errors='coerce')\n",
    "df_master['Parch'] = pd.to_numeric(df_master['Parch'], errors='coerce')\n",
    "\n",
    "df_master['Embarked'].replace('S', 'Southampton', inplace=True)\n",
    "df_master['Embarked'].replace('C', 'Cherbourg', inplace=True)\n",
    "df_master['Embarked'].replace('Q', 'Queenstown', inplace=True)\n",
    "\n",
    "# Add a new column to designate each passenger as adult, child or unknown if Age is unspecified. \n",
    "df_master['AdultorChild'] = df_master.apply(translateAge, axis=1)\n",
    "# Add a new column to designate if a passenger was travelling alone or with family\n",
    "df_master['AloneorFamily'] = df_master.apply(translateFamilyStatus, axis=1)\n",
    "# Split the Name column into Firstname and Lastname. We are mainly interested in the Lastname \n",
    "d2 = pd.DataFrame(df_master['Name'].str.split(\",\").tolist(), columns=\"Lastname Firstname\".split())\n",
    "df_master['Lastname'] = d2[\"Lastname\"]\n",
    "df_master['Firstname'] = d2[\"Firstname\"]"
   ]
  },
  {
   "cell_type": "markdown",
   "metadata": {},
   "source": [
    "### How many males and females were on board? What percentage of survivors were male vs. female?"
   ]
  },
  {
   "cell_type": "code",
   "execution_count": 4,
   "metadata": {},
   "outputs": [
    {
     "name": "stdout",
     "output_type": "stream",
     "text": [
      "Total males on board = 577\n",
      "Total females on board = 314\n",
      "Total survivors = 342\n",
      "Male survivors = 109\n",
      "Femle survivors = 233\n",
      "% male survivors = 31.87\n",
      "% female survivors = 68.13\n"
     ]
    }
   ],
   "source": [
    "total_records = len(df_master)\n",
    "male = len(df_master[(df_master['Sex']== 'male')])\n",
    "female = len(df_master[(df_master['Sex']== 'female')])\n",
    "print (\"Total males on board = \" + str(male))\n",
    "print (\"Total females on board = \" + str(female))\n",
    "\n",
    "df_survivors = df_master[(df_master['Survived'] == 1)]\n",
    "total_survivors = len(df_survivors)\n",
    "print (\"Total survivors = \" + str(total_survivors))\n",
    "male_survivors = len(df_survivors[(df_survivors['Sex']== 'male')])\n",
    "print (\"Male survivors = \" + str(male_survivors))\n",
    "female_survivors = len(df_survivors[(df_survivors['Sex']== 'female')])\n",
    "print (\"Femle survivors = \" + str(female_survivors))\n",
    "\n",
    "print (\"% male survivors = \" + str(round((male_survivors/total_survivors) * 100,2)))\n",
    "print (\"% female survivors = \" + str(round((female_survivors/total_survivors) * 100,2)))\n"
   ]
  },
  {
   "cell_type": "markdown",
   "metadata": {},
   "source": [
    "#### These numbers reveal that the survival rate for males was low! In fact, one could use gender as a strong predictor for survival. One hypothesis is that female passengers travelling either alone or with family were put on to lifeboats first. With the passage of time, the survival situation became increasingly difficult, resulting in male passengers finding it increasingly difficult to escape.  Another hypothesis could be that males and females were placed in different classes or cabins and therefore, by virtue of the class/cabin location and proximity to the available lifeboats, they were less likely to survive. Let us first examine the impact of a passenger's class of travel on their survival, and then investigate whether there were more males than females in any particular class. "
   ]
  },
  {
   "cell_type": "code",
   "execution_count": 5,
   "metadata": {
    "collapsed": true
   },
   "outputs": [],
   "source": [
    "# This function takes a list of fields to use to aggregate the count of passengers, survivors and percentage of survivors\n",
    "def survivorgrouping(fields):\n",
    "    df_totalbygroup = df_master.groupby(fields)['Survived'].agg(['count']).rename(columns=dict(count='Total_Numbers'))\n",
    "    df_survivorsbygroup = df_survivors.groupby(fields)['Survived'].agg(['count']).rename(columns=dict(count='Total_Survivors'))\n",
    "    df_merged = pd.concat([df_totalbygroup, df_survivorsbygroup], axis=1)\n",
    "    df_merged['% survivors'] = round((df_merged['Total_Survivors']/df_merged['Total_Numbers']) * 100,2)\n",
    "    return df_merged"
   ]
  },
  {
   "cell_type": "markdown",
   "metadata": {},
   "source": [
    "### What impact did a passenger's class of travel have on their survival?"
   ]
  },
  {
   "cell_type": "code",
   "execution_count": 6,
   "metadata": {},
   "outputs": [
    {
     "data": {
      "text/html": [
       "<div>\n",
       "<table border=\"1\" class=\"dataframe\">\n",
       "  <thead>\n",
       "    <tr style=\"text-align: right;\">\n",
       "      <th></th>\n",
       "      <th>Total_Numbers</th>\n",
       "      <th>Total_Survivors</th>\n",
       "      <th>% survivors</th>\n",
       "    </tr>\n",
       "    <tr>\n",
       "      <th>Pclass</th>\n",
       "      <th></th>\n",
       "      <th></th>\n",
       "      <th></th>\n",
       "    </tr>\n",
       "  </thead>\n",
       "  <tbody>\n",
       "    <tr>\n",
       "      <th>1</th>\n",
       "      <td>216</td>\n",
       "      <td>136</td>\n",
       "      <td>62.96</td>\n",
       "    </tr>\n",
       "    <tr>\n",
       "      <th>2</th>\n",
       "      <td>184</td>\n",
       "      <td>87</td>\n",
       "      <td>47.28</td>\n",
       "    </tr>\n",
       "    <tr>\n",
       "      <th>3</th>\n",
       "      <td>491</td>\n",
       "      <td>119</td>\n",
       "      <td>24.24</td>\n",
       "    </tr>\n",
       "  </tbody>\n",
       "</table>\n",
       "</div>"
      ],
      "text/plain": [
       "        Total_Numbers  Total_Survivors  % survivors\n",
       "Pclass                                             \n",
       "1                 216              136        62.96\n",
       "2                 184               87        47.28\n",
       "3                 491              119        24.24"
      ]
     },
     "execution_count": 6,
     "metadata": {},
     "output_type": "execute_result"
    }
   ],
   "source": [
    "survivorgrouping('Pclass')"
   ]
  },
  {
   "cell_type": "markdown",
   "metadata": {},
   "source": [
    "#### These numbers reveal that the class of travel did indeed impact survival. Not even a quarter of the number of passengers travelling 3rd class survived. Less than half of passengers travelling 2nd class survived. And more than half of passengers travelling 1st class survived. Presumably, 3rd class passengers were lower down and closer to the water and so their cabins flooded first? 2nd class passengers were a deck above and 1st class passengers were high up top and had more time than those down below, to prepare escape. They were also more likely to have had prioritity access to lifeboats given they may be more wealthy and influential.\n",
    "\n",
    "#### Let us now see if there were more males than females in 3rd class. Also, were there more females travelling 1st class?"
   ]
  },
  {
   "cell_type": "markdown",
   "metadata": {},
   "source": [
    "### Were their more males than females in 3rd class?"
   ]
  },
  {
   "cell_type": "code",
   "execution_count": 7,
   "metadata": {
    "scrolled": true
   },
   "outputs": [
    {
     "data": {
      "text/html": [
       "<div>\n",
       "<table border=\"1\" class=\"dataframe\">\n",
       "  <thead>\n",
       "    <tr style=\"text-align: right;\">\n",
       "      <th></th>\n",
       "      <th></th>\n",
       "      <th>Total_Numbers</th>\n",
       "      <th>Total_Survivors</th>\n",
       "      <th>% survivors</th>\n",
       "    </tr>\n",
       "    <tr>\n",
       "      <th>Pclass</th>\n",
       "      <th>Sex</th>\n",
       "      <th></th>\n",
       "      <th></th>\n",
       "      <th></th>\n",
       "    </tr>\n",
       "  </thead>\n",
       "  <tbody>\n",
       "    <tr>\n",
       "      <th rowspan=\"2\" valign=\"top\">1</th>\n",
       "      <th>female</th>\n",
       "      <td>94</td>\n",
       "      <td>91</td>\n",
       "      <td>96.81</td>\n",
       "    </tr>\n",
       "    <tr>\n",
       "      <th>male</th>\n",
       "      <td>122</td>\n",
       "      <td>45</td>\n",
       "      <td>36.89</td>\n",
       "    </tr>\n",
       "    <tr>\n",
       "      <th rowspan=\"2\" valign=\"top\">2</th>\n",
       "      <th>female</th>\n",
       "      <td>76</td>\n",
       "      <td>70</td>\n",
       "      <td>92.11</td>\n",
       "    </tr>\n",
       "    <tr>\n",
       "      <th>male</th>\n",
       "      <td>108</td>\n",
       "      <td>17</td>\n",
       "      <td>15.74</td>\n",
       "    </tr>\n",
       "    <tr>\n",
       "      <th rowspan=\"2\" valign=\"top\">3</th>\n",
       "      <th>female</th>\n",
       "      <td>144</td>\n",
       "      <td>72</td>\n",
       "      <td>50.00</td>\n",
       "    </tr>\n",
       "    <tr>\n",
       "      <th>male</th>\n",
       "      <td>347</td>\n",
       "      <td>47</td>\n",
       "      <td>13.54</td>\n",
       "    </tr>\n",
       "  </tbody>\n",
       "</table>\n",
       "</div>"
      ],
      "text/plain": [
       "               Total_Numbers  Total_Survivors  % survivors\n",
       "Pclass Sex                                                \n",
       "1      female             94               91        96.81\n",
       "       male              122               45        36.89\n",
       "2      female             76               70        92.11\n",
       "       male              108               17        15.74\n",
       "3      female            144               72        50.00\n",
       "       male              347               47        13.54"
      ]
     },
     "execution_count": 7,
     "metadata": {},
     "output_type": "execute_result"
    }
   ],
   "source": [
    "survivorgrouping(['Pclass','Sex'])"
   ]
  },
  {
   "cell_type": "markdown",
   "metadata": {},
   "source": [
    "#### From previous analyses, we saw that males were less likely to survive than females. We also saw that passengers travelling 3rd class were less likely to survive than passengers travelling in higher classes. Now, the above data shows that there were more than double the number of males than females travelling 3rd class and this could be one possible factor in explaining why fewer males survived.  Another reason stated previously could be that female passengers were more likely than male passengers to be prioritised for lifeboats.\n",
    "\n",
    "#### Interestingly we observe that there were fewer females travelling 1st class than in 3rd class. Yet, overall, more females survived. This tells us that while class of travel is a strong predictor of survival, gender is a stronger predictor. In each class of travel, more females and males survived.  "
   ]
  },
  {
   "cell_type": "markdown",
   "metadata": {},
   "source": [
    "##### The graph below shows how the relationship between class of travel and survival changes from 1st to 3rd class, for males and females."
   ]
  },
  {
   "cell_type": "code",
   "execution_count": 18,
   "metadata": {},
   "outputs": [
    {
     "data": {
      "text/plain": [
       "<matplotlib.text.Text at 0x14dec40128>"
      ]
     },
     "execution_count": 18,
     "metadata": {},
     "output_type": "execute_result"
    },
    {
     "data": {
      "image/png": "[encoded data removed]",
      "text/plain": [
       "<matplotlib.figure.Figure at 0x14deb76240>"
      ]
     },
     "metadata": {},
     "output_type": "display_data"
    }
   ],
   "source": [
    "import matplotlib\n",
    "import numpy as np\n",
    "import matplotlib.pyplot as plt\n",
    "%matplotlib inline\n",
    "\n",
    "import seaborn as sns\n",
    "\n",
    "g = sns.pointplot(x=\"Pclass\", y=\"Survived\", hue=\"Sex\", data=df_master,\n",
    "              palette={\"male\": \"g\", \"female\": \"m\"},\n",
    "              markers=[\"^\", \"o\"], linestyles=[\"-\", \"--\"])\n",
    "\n",
    "g.set_ylabel('Chance of survival')\n",
    "g.set_xlabel('Class of travel')\n",
    "g.set_title(\"Change in chance of survival by class of travel\")"
   ]
  },
  {
   "cell_type": "markdown",
   "metadata": {},
   "source": [
    "#### The above plot provides confirmation that males in general had less than 50% chance of survival. Males in 1st class had double the chance of survival than males in 2nd class. But then, there was only a small decrease in survival chance for male passengers travelling 3rd class vs. those travelling 2nd class, so 3rd class male passengers were not much worse off!\n",
    "\n",
    "#### Female travellers in 1st class were the luckiest of all. More than 95% females travelling 1st class survived. 2nd class female passengers also had a greater than 85% survival rate, however 3rd class female passengers had around a 50% survival rate. \n",
    "\n",
    "#### Across males and females in general, 3rd class passengers were the most unfortunate in their chances of survival, although females here were around 3 times more likely than males to have survived. "
   ]
  },
  {
   "cell_type": "markdown",
   "metadata": {},
   "source": [
    "### What was the number of survivors by embarkation location?"
   ]
  },
  {
   "cell_type": "code",
   "execution_count": 9,
   "metadata": {},
   "outputs": [
    {
     "data": {
      "text/html": [
       "<div>\n",
       "<table border=\"1\" class=\"dataframe\">\n",
       "  <thead>\n",
       "    <tr style=\"text-align: right;\">\n",
       "      <th></th>\n",
       "      <th>Total_Numbers</th>\n",
       "      <th>Total_Survivors</th>\n",
       "      <th>% survivors</th>\n",
       "    </tr>\n",
       "    <tr>\n",
       "      <th>Embarked</th>\n",
       "      <th></th>\n",
       "      <th></th>\n",
       "      <th></th>\n",
       "    </tr>\n",
       "  </thead>\n",
       "  <tbody>\n",
       "    <tr>\n",
       "      <th>Cherbourg</th>\n",
       "      <td>168</td>\n",
       "      <td>93</td>\n",
       "      <td>55.36</td>\n",
       "    </tr>\n",
       "    <tr>\n",
       "      <th>Queenstown</th>\n",
       "      <td>77</td>\n",
       "      <td>30</td>\n",
       "      <td>38.96</td>\n",
       "    </tr>\n",
       "    <tr>\n",
       "      <th>Southampton</th>\n",
       "      <td>644</td>\n",
       "      <td>217</td>\n",
       "      <td>33.70</td>\n",
       "    </tr>\n",
       "  </tbody>\n",
       "</table>\n",
       "</div>"
      ],
      "text/plain": [
       "             Total_Numbers  Total_Survivors  % survivors\n",
       "Embarked                                                \n",
       "Cherbourg              168               93        55.36\n",
       "Queenstown              77               30        38.96\n",
       "Southampton            644              217        33.70"
      ]
     },
     "execution_count": 9,
     "metadata": {},
     "output_type": "execute_result"
    }
   ],
   "source": [
    "survivorgrouping('Embarked')"
   ]
  },
  {
   "cell_type": "markdown",
   "metadata": {},
   "source": [
    "#### Cherbourg had the largest percentage of survivors. Southampton had the largest number of passengers on-boarding but the fewest percent survivors. We know that Southampton was the point of origin for the Titanic and it then stopped at Cherbourg in France followed by Queenstown, Ireland. \n",
    "\n",
    "#### Given we know that class of travel and gender are already strong predictors of survival, can we find a relationship between these and the port of embarkation?"
   ]
  },
  {
   "cell_type": "code",
   "execution_count": 19,
   "metadata": {},
   "outputs": [
    {
     "data": {
      "text/html": [
       "<div>\n",
       "<table border=\"1\" class=\"dataframe\">\n",
       "  <thead>\n",
       "    <tr style=\"text-align: right;\">\n",
       "      <th></th>\n",
       "      <th></th>\n",
       "      <th></th>\n",
       "      <th>Total_Numbers</th>\n",
       "      <th>Total_Survivors</th>\n",
       "      <th>% survivors</th>\n",
       "    </tr>\n",
       "    <tr>\n",
       "      <th>Embarked</th>\n",
       "      <th>Pclass</th>\n",
       "      <th>Sex</th>\n",
       "      <th></th>\n",
       "      <th></th>\n",
       "      <th></th>\n",
       "    </tr>\n",
       "  </thead>\n",
       "  <tbody>\n",
       "    <tr>\n",
       "      <th rowspan=\"6\" valign=\"top\">Cherbourg</th>\n",
       "      <th rowspan=\"2\" valign=\"top\">1</th>\n",
       "      <th>female</th>\n",
       "      <td>43</td>\n",
       "      <td>42.0</td>\n",
       "      <td>97.67</td>\n",
       "    </tr>\n",
       "    <tr>\n",
       "      <th>male</th>\n",
       "      <td>42</td>\n",
       "      <td>17.0</td>\n",
       "      <td>40.48</td>\n",
       "    </tr>\n",
       "    <tr>\n",
       "      <th rowspan=\"2\" valign=\"top\">2</th>\n",
       "      <th>female</th>\n",
       "      <td>7</td>\n",
       "      <td>7.0</td>\n",
       "      <td>100.00</td>\n",
       "    </tr>\n",
       "    <tr>\n",
       "      <th>male</th>\n",
       "      <td>10</td>\n",
       "      <td>2.0</td>\n",
       "      <td>20.00</td>\n",
       "    </tr>\n",
       "    <tr>\n",
       "      <th rowspan=\"2\" valign=\"top\">3</th>\n",
       "      <th>female</th>\n",
       "      <td>23</td>\n",
       "      <td>15.0</td>\n",
       "      <td>65.22</td>\n",
       "    </tr>\n",
       "    <tr>\n",
       "      <th>male</th>\n",
       "      <td>43</td>\n",
       "      <td>10.0</td>\n",
       "      <td>23.26</td>\n",
       "    </tr>\n",
       "    <tr>\n",
       "      <th rowspan=\"6\" valign=\"top\">Queenstown</th>\n",
       "      <th rowspan=\"2\" valign=\"top\">1</th>\n",
       "      <th>female</th>\n",
       "      <td>1</td>\n",
       "      <td>1.0</td>\n",
       "      <td>100.00</td>\n",
       "    </tr>\n",
       "    <tr>\n",
       "      <th>male</th>\n",
       "      <td>1</td>\n",
       "      <td>NaN</td>\n",
       "      <td>NaN</td>\n",
       "    </tr>\n",
       "    <tr>\n",
       "      <th rowspan=\"2\" valign=\"top\">2</th>\n",
       "      <th>female</th>\n",
       "      <td>2</td>\n",
       "      <td>2.0</td>\n",
       "      <td>100.00</td>\n",
       "    </tr>\n",
       "    <tr>\n",
       "      <th>male</th>\n",
       "      <td>1</td>\n",
       "      <td>NaN</td>\n",
       "      <td>NaN</td>\n",
       "    </tr>\n",
       "    <tr>\n",
       "      <th rowspan=\"2\" valign=\"top\">3</th>\n",
       "      <th>female</th>\n",
       "      <td>33</td>\n",
       "      <td>24.0</td>\n",
       "      <td>72.73</td>\n",
       "    </tr>\n",
       "    <tr>\n",
       "      <th>male</th>\n",
       "      <td>39</td>\n",
       "      <td>3.0</td>\n",
       "      <td>7.69</td>\n",
       "    </tr>\n",
       "    <tr>\n",
       "      <th rowspan=\"6\" valign=\"top\">Southampton</th>\n",
       "      <th rowspan=\"2\" valign=\"top\">1</th>\n",
       "      <th>female</th>\n",
       "      <td>48</td>\n",
       "      <td>46.0</td>\n",
       "      <td>95.83</td>\n",
       "    </tr>\n",
       "    <tr>\n",
       "      <th>male</th>\n",
       "      <td>79</td>\n",
       "      <td>28.0</td>\n",
       "      <td>35.44</td>\n",
       "    </tr>\n",
       "    <tr>\n",
       "      <th rowspan=\"2\" valign=\"top\">2</th>\n",
       "      <th>female</th>\n",
       "      <td>67</td>\n",
       "      <td>61.0</td>\n",
       "      <td>91.04</td>\n",
       "    </tr>\n",
       "    <tr>\n",
       "      <th>male</th>\n",
       "      <td>97</td>\n",
       "      <td>15.0</td>\n",
       "      <td>15.46</td>\n",
       "    </tr>\n",
       "    <tr>\n",
       "      <th rowspan=\"2\" valign=\"top\">3</th>\n",
       "      <th>female</th>\n",
       "      <td>88</td>\n",
       "      <td>33.0</td>\n",
       "      <td>37.50</td>\n",
       "    </tr>\n",
       "    <tr>\n",
       "      <th>male</th>\n",
       "      <td>265</td>\n",
       "      <td>34.0</td>\n",
       "      <td>12.83</td>\n",
       "    </tr>\n",
       "  </tbody>\n",
       "</table>\n",
       "</div>"
      ],
      "text/plain": [
       "                           Total_Numbers  Total_Survivors  % survivors\n",
       "Embarked    Pclass Sex                                                \n",
       "Cherbourg   1      female             43             42.0        97.67\n",
       "                   male               42             17.0        40.48\n",
       "            2      female              7              7.0       100.00\n",
       "                   male               10              2.0        20.00\n",
       "            3      female             23             15.0        65.22\n",
       "                   male               43             10.0        23.26\n",
       "Queenstown  1      female              1              1.0       100.00\n",
       "                   male                1              NaN          NaN\n",
       "            2      female              2              2.0       100.00\n",
       "                   male                1              NaN          NaN\n",
       "            3      female             33             24.0        72.73\n",
       "                   male               39              3.0         7.69\n",
       "Southampton 1      female             48             46.0        95.83\n",
       "                   male               79             28.0        35.44\n",
       "            2      female             67             61.0        91.04\n",
       "                   male               97             15.0        15.46\n",
       "            3      female             88             33.0        37.50\n",
       "                   male              265             34.0        12.83"
      ]
     },
     "execution_count": 19,
     "metadata": {},
     "output_type": "execute_result"
    }
   ],
   "source": [
    "survivorgrouping(['Embarked','Pclass','Sex'])"
   ]
  },
  {
   "cell_type": "markdown",
   "metadata": {},
   "source": [
    "#### Analysing the above data reaffirms that across all three embarkation locations, 3rd class male passengers were still the least likely to survive. It does not seem to be the case that there was an skewed distribution of passengers in any class by embarkation location."
   ]
  },
  {
   "cell_type": "markdown",
   "metadata": {},
   "source": [
    "### How many adults vs. children were on board? What percentage of survivors were adult vs. children?"
   ]
  },
  {
   "cell_type": "code",
   "execution_count": 10,
   "metadata": {},
   "outputs": [
    {
     "data": {
      "text/html": [
       "<div>\n",
       "<table border=\"1\" class=\"dataframe\">\n",
       "  <thead>\n",
       "    <tr style=\"text-align: right;\">\n",
       "      <th></th>\n",
       "      <th>Total_Numbers</th>\n",
       "      <th>Total_Survivors</th>\n",
       "      <th>% survivors</th>\n",
       "    </tr>\n",
       "    <tr>\n",
       "      <th>AdultorChild</th>\n",
       "      <th></th>\n",
       "      <th></th>\n",
       "      <th></th>\n",
       "    </tr>\n",
       "  </thead>\n",
       "  <tbody>\n",
       "    <tr>\n",
       "      <th>Adult</th>\n",
       "      <td>575</td>\n",
       "      <td>220</td>\n",
       "      <td>38.26</td>\n",
       "    </tr>\n",
       "    <tr>\n",
       "      <th>Child</th>\n",
       "      <td>139</td>\n",
       "      <td>70</td>\n",
       "      <td>50.36</td>\n",
       "    </tr>\n",
       "    <tr>\n",
       "      <th>Unknown</th>\n",
       "      <td>177</td>\n",
       "      <td>52</td>\n",
       "      <td>29.38</td>\n",
       "    </tr>\n",
       "  </tbody>\n",
       "</table>\n",
       "</div>"
      ],
      "text/plain": [
       "              Total_Numbers  Total_Survivors  % survivors\n",
       "AdultorChild                                             \n",
       "Adult                   575              220        38.26\n",
       "Child                   139               70        50.36\n",
       "Unknown                 177               52        29.38"
      ]
     },
     "execution_count": 10,
     "metadata": {},
     "output_type": "execute_result"
    }
   ],
   "source": [
    "survivorgrouping('AdultorChild')"
   ]
  },
  {
   "cell_type": "markdown",
   "metadata": {},
   "source": [
    "#### The above numbers show that about 15% of the passengers were known with certainty to be minors (139/891 ~ 15%). Around 50% of them survived. The survival rate for adults was around 38%. Understandably, given the limited availability of life-boats, one would think that the safe escape of children was prioritised over that of adults. The graph below shows the count of survivors binned by age. Here, I remove those records where age information was not present (previously replaced by -1 in the master data set)"
   ]
  },
  {
   "cell_type": "code",
   "execution_count": 36,
   "metadata": {},
   "outputs": [
    {
     "data": {
      "text/plain": [
       "<matplotlib.text.Text at 0x14e152bc88>"
      ]
     },
     "execution_count": 36,
     "metadata": {},
     "output_type": "execute_result"
    },
    {
     "data": {
      "image/png": "[encoded data removed]",
      "text/plain": [
       "<matplotlib.figure.Figure at 0x14e019bf60>"
      ]
     },
     "metadata": {},
     "output_type": "display_data"
    }
   ],
   "source": [
    "import matplotlib\n",
    "import numpy as np\n",
    "import matplotlib.pyplot as plt\n",
    "%matplotlib inline\n",
    "\n",
    "import seaborn as sns\n",
    "sns.set(style=\"whitegrid\", color_codes=True)\n",
    "\n",
    "df_survivorsAgePresent = df_survivors[(df_survivors['Age'] > 0)]\n",
    "x = pd.Series(df_survivorsAgePresent['Age'], name=\"Age (years)\")\n",
    "g = sns.distplot(x, bins=20, kde=False)\n",
    "g.set_ylabel('Survivor count')\n",
    "g.set_title('Survivor count by age group')"
   ]
  },
  {
   "cell_type": "markdown",
   "metadata": {},
   "source": [
    "### How many survivors were travelling alone vs. family and how many of these were male vs. female?  "
   ]
  },
  {
   "cell_type": "code",
   "execution_count": 22,
   "metadata": {},
   "outputs": [
    {
     "data": {
      "text/plain": [
       "<matplotlib.text.Text at 0x14df0df438>"
      ]
     },
     "execution_count": 22,
     "metadata": {},
     "output_type": "execute_result"
    },
    {
     "data": {
      "image/png": "[encoded data removed]",
      "text/plain": [
       "<matplotlib.figure.Figure at 0x14dedd5518>"
      ]
     },
     "metadata": {},
     "output_type": "display_data"
    }
   ],
   "source": [
    "import matplotlib\n",
    "import numpy as np\n",
    "import matplotlib.pyplot as plt\n",
    "%matplotlib inline\n",
    "\n",
    "import seaborn as sns\n",
    "sns.set(style=\"whitegrid\", color_codes=True)\n",
    "x = pd.Series(df_survivors['AloneorFamily'], name=\"Alone or Family\")\n",
    "g = sns.countplot(x, hue='Sex', data=df_survivors)\n",
    "g.set_ylabel('Survivor count')\n",
    "g.set_title('Survivor distribution by gender and family situation while on board')"
   ]
  },
  {
   "cell_type": "markdown",
   "metadata": {},
   "source": [
    "#### We see above that of all survivors, a greater number were travelling with family. Of these, more than 3 times were females than males. "
   ]
  },
  {
   "cell_type": "markdown",
   "metadata": {},
   "source": [
    "### Conclusions\n",
    "\n",
    "My aim with the data set was to investigate the relation between the independent data we have on Titanic passengers and their survival, and understand what, if any, factors were strong predictors of survival. \n",
    "\n",
    "The analysis project first undertook to explore the dataset - the fields, descriptions, meaning, record count and identified any discrepancies. A brief data wrangling phase cleaned up missing data for later use. There was some missing age data but other data was fully provided. The first step was to compare the count of survivors vs. those who perished and I found that more people died than survived. I then sought to divide the survivors by gender and found that around 68% of females and only 32% males survived. Given the nature of society and the higher regard for the safety of women and family at the time, it does seem logical that men in general would have sacrificed their own safety to protect women. \n",
    "\n",
    "I then delved to analyse these numbers by passengers' class of travel. It came out very strongly that passengers travelling 3rd class with or without gender considerations, were less likely to survive than passengers travelling 1st or 2nd class. This would make sense considering 3rd class cabins were closer to the water and were likely to have been flooded in first. By extension of these two analyses, I hypothesised that 1st class female passengers had close to a 100% chance of survival, and this is again clearly revealed by the data. By extension, 3rd class male passengers were least likely to survive and had a survival chance of merely 13.5%. A further analysis revealed that males and females travelling with any family on board were more likely to survive than passengers travelling alone. Again, this seems natural given greater solidarity with families, especially those travelling with siblings, spouses, parents or young children on board. \n",
    "\n",
    "I also wanted to investigate if passengers from any particular port of embarkation had higher survival rates. The data shows that this was not true. It was also not the case that passengers from any particular port were placed in a particular class or were of a particular gender.\n",
    "\n",
    "An interesting fact is that half the passengers on board the Titanic were below 28 years of age, and three-quarters were below 38! This is a really young demographic (ignoring passengers with unrecorded ages, of course). Consequently, the highest number f survivors was between 20 and 35 years.\n",
    "\n",
    "Below are discussed some limitations of the analysis carried out and potential directions for further analysis."
   ]
  },
  {
   "cell_type": "markdown",
   "metadata": {},
   "source": [
    "### Limitations\n",
    "\n",
    "1. The analysis is only as good as the quality of data!\n",
    "2. Age records are missing for 177 passengers which is nearly 20% of the total data provided. Accurate records of these could lead to better/more accurate/interesting insights. I did not have solid background information to make any reasonable assumptions about age, so decided simply to replace missing age values with -1. Other than age binning, no significant analysis was done using age.\n",
    "3. This analysis did not delve deeper into separating spouse from sibling, or parent from child.\n",
    "4. It did not separate family units by common last name\n",
    "5. A deeper analysis, not undertaken here, would research the structure and organisation of cabins and lifeboats on the ship and provide greater understanding of the survival data.  "
   ]
  },
  {
   "cell_type": "markdown",
   "metadata": {},
   "source": [
    "### Food for thought for further analysis\n",
    "\n",
    "#### Further analysis of the Titanic data set could yield further insight. Here are some thoughts:\n",
    "1. Identify each family (by a common last name would be a good starting point). Then for each family, identify how many members survived. How many children were orphaned, how many were surviving spouses and siblings? \n",
    "2. Build a predictive model for the strongest predictors of survival. We have already seen here that gender and class of travel were strong factors. A full supervised learning model could be based on the data given here and used to predict survival on unseen test data.\n",
    "3. Are there any insights to be gleaned based on fare? It seems logical that fare is based on class of travel and cabin but could this be a predictor for survival in its own right?"
   ]
  },
  {
   "cell_type": "markdown",
   "metadata": {},
   "source": [
    "### References:\n",
    "1. http://stackoverflow.com\n",
    "2. http://www.kaggle.com\n",
    "3. http://pandas.pydata.org/pandas-docs/stable/generated/pandas.Series.str.split.html\n",
    "4. http://seaborn.pydata.org/generated/seaborn.distplot.html\n",
    "5. http://seaborn.pydata.org/tutorial/categorical.html\n",
    "6. http://www.ultimatetitanic.com/the-voyage/"
   ]
  }
 ],
 "metadata": {
  "kernelspec": {
   "display_name": "Python 3",
   "language": "python",
   "name": "python3"
  },
  "language_info": {
   "codemirror_mode": {
    "name": "ipython",
    "version": 3
   },
   "file_extension": ".py",
   "mimetype": "text/x-python",
   "name": "python",
   "nbconvert_exporter": "python",
   "pygments_lexer": "ipython3",
   "version": "3.6.0"
  }
 },
 "nbformat": 4,
 "nbformat_minor": 2
}
